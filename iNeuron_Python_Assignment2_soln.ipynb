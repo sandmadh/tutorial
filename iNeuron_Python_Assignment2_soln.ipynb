{
 "cells": [
  {
   "cell_type": "markdown",
   "metadata": {},
   "source": [
    "## 1. Create the below pattern using nested for loop in Python.\n",
    "## *\n",
    "## * *\n",
    "## * * *\n",
    "## * * * *\n",
    "## * * * * *\n",
    "##  * * *\n",
    "## * * *\n",
    "## * *\n",
    "## *"
   ]
  },
  {
   "cell_type": "code",
   "execution_count": 6,
   "metadata": {
    "scrolled": true
   },
   "outputs": [
    {
     "name": "stdout",
     "output_type": "stream",
     "text": [
      "*\n",
      "**\n",
      "***\n",
      "****\n",
      "*****\n",
      "****\n",
      "***\n",
      "**\n",
      "*\n"
     ]
    }
   ],
   "source": [
    "rows = 9\n",
    "star = '*'\n",
    "i = 1\n",
    "mid = int(rows/2) + 1\n",
    "i = 1\n",
    "while (mid >i):\n",
    "    if (i !=0 ) and (i < mid):\n",
    "           print(star * i)\n",
    "            \n",
    "    i = i+1\n",
    "print (star * mid)\n",
    "i = mid -1\n",
    "while (i):\n",
    "    print(star * i)\n",
    "    i = i-1\n",
    "    \n",
    "   "
   ]
  },
  {
   "cell_type": "markdown",
   "metadata": {},
   "source": [
    "## 2. Write a Python program to reverse a word after accepting the input from the user.\n",
    "\n",
    "Input word: ineuron\n",
    "\n",
    "Output: norueni"
   ]
  },
  {
   "cell_type": "code",
   "execution_count": 1,
   "metadata": {
    "scrolled": true
   },
   "outputs": [
    {
     "name": "stdout",
     "output_type": "stream",
     "text": [
      "Enter any string: ineuron\n",
      "The reverse string:  norueni\n"
     ]
    }
   ],
   "source": [
    "input_str = input(\"Enter any string: \")\n",
    "reverse_str = \"\"\n",
    "for i in input_str:\n",
    "    reverse_str = i + reverse_str\n",
    "print(\"The reverse string: \",reverse_str)"
   ]
  }
 ],
 "metadata": {
  "kernelspec": {
   "display_name": "Python 3",
   "language": "python",
   "name": "python3"
  },
  "language_info": {
   "codemirror_mode": {
    "name": "ipython",
    "version": 3
   },
   "file_extension": ".py",
   "mimetype": "text/x-python",
   "name": "python",
   "nbconvert_exporter": "python",
   "pygments_lexer": "ipython3",
   "version": "3.7.6"
  }
 },
 "nbformat": 4,
 "nbformat_minor": 4
}

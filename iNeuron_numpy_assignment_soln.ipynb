{
 "cells": [
  {
   "cell_type": "markdown",
   "metadata": {},
   "source": [
    "\n",
    "## 1.\n",
    "Write a function so that the columns of the output matrix are powers of the input vector. \n",
    "\n",
    "The order of the powers is determined by the increasing boolean argument. \n",
    "Specifically, when increasing is False, the i-th output column is the input vector \n",
    "raised element-wise to the power of N - i - 1.\n",
    "\n",
    "HINT: Such a matrix with a geometric progression in each row is named for Alexandre- Theophile Vandermonde."
   ]
  },
  {
   "cell_type": "code",
   "execution_count": 28,
   "metadata": {},
   "outputs": [],
   "source": [
    "import numpy as np\n",
    "\n"
   ]
  },
  {
   "cell_type": "code",
   "execution_count": 29,
   "metadata": {
    "scrolled": true
   },
   "outputs": [
    {
     "name": "stdout",
     "output_type": "stream",
     "text": [
      "The Required array is when increasing is False:\n",
      "[[  1   1   1   1]\n",
      " [  8   4   2   1]\n",
      " [ 27   9   3   1]\n",
      " [125  25   5   1]]\n",
      "The Required array is when increasing is True:\n",
      "[[  1   1   1   1]\n",
      " [  1   2   4   8]\n",
      " [  1   3   9  27]\n",
      " [  1   5  25 125]]\n"
     ]
    }
   ],
   "source": [
    "\n",
    "# According to Vandermonde matrix, considering the increasing =False\n",
    "# Making each row of the array as a list by applying Geometric Progression\n",
    "# the output array will be of the order len(input_array) X len(input_array) 4X4 in this case\n",
    "# lets make 4 lists as rows of the output matrix and then print in the required form\n",
    "\n",
    "\n",
    "\n",
    "def vander_output ( input, increasing=False):\n",
    "    N=input.size\n",
    "    matr = np.zeros([N,N])\n",
    "    \n",
    "    if increasing ==False:\n",
    "        matr = np.row_stack([list(j **(N-i-1) for i in range(N)) for j in input])\n",
    "    elif increasing == True:\n",
    "        matr = np.row_stack([list(j **(i) for i in range(N)) for j in input])\n",
    "      \n",
    "    return matr\n",
    "\n",
    "##################################################################################################\n",
    "\n",
    "input_array = np.array([1,2,3,5])\n",
    "\n",
    "vander_mat = vander_output(input_array,False)\n",
    "print(\"The Required array is when increasing is False:\")\n",
    "print(vander_mat)\n",
    "\n",
    "vander_mat = vander_output(input_array,True)\n",
    "print(\"The Required array is when increasing is True:\")\n",
    "print(vander_mat)"
   ]
  },
  {
   "cell_type": "markdown",
   "metadata": {},
   "source": [
    "The above results can be tested using np.vendor metho as follows"
   ]
  },
  {
   "cell_type": "code",
   "execution_count": 32,
   "metadata": {},
   "outputs": [
    {
     "data": {
      "text/plain": [
       "array([[  1,   1,   1,   1],\n",
       "       [  8,   4,   2,   1],\n",
       "       [ 27,   9,   3,   1],\n",
       "       [125,  25,   5,   1]])"
      ]
     },
     "execution_count": 32,
     "metadata": {},
     "output_type": "execute_result"
    }
   ],
   "source": [
    "#with increasing = False(default behaviour)\n",
    "np.vander(input_array)"
   ]
  },
  {
   "cell_type": "code",
   "execution_count": 34,
   "metadata": {},
   "outputs": [
    {
     "data": {
      "text/plain": [
       "array([[  1,   1,   1,   1],\n",
       "       [  1,   2,   4,   8],\n",
       "       [  1,   3,   9,  27],\n",
       "       [  1,   5,  25, 125]])"
      ]
     },
     "execution_count": 34,
     "metadata": {},
     "output_type": "execute_result"
    }
   ],
   "source": [
    "#with increasing = True\n",
    "np.vander(input_array,increasing=True)"
   ]
  },
  {
   "cell_type": "markdown",
   "metadata": {},
   "source": [
    "###############################################################################################################"
   ]
  },
  {
   "cell_type": "markdown",
   "metadata": {},
   "source": [
    "\n",
    "\n",
    "## 2\n",
    "Write a function to find moving average in an array over a window:\n",
    "  \n",
    "Test it over [3, 5, 7, 2, 8, 10, 11, 65, 72, 81, 99, 100, 150] and window of 3."
   ]
  },
  {
   "cell_type": "code",
   "execution_count": 27,
   "metadata": {},
   "outputs": [
    {
     "name": "stdout",
     "output_type": "stream",
     "text": [
      "<class 'numpy.ndarray'>\n",
      "The requied vector of moving averages of the given array :\n",
      "[[  5.  ]\n",
      " [  4.67]\n",
      " [  5.67]\n",
      " [  6.67]\n",
      " [  9.67]\n",
      " [ 28.67]\n",
      " [ 49.33]\n",
      " [ 72.67]\n",
      " [ 84.  ]\n",
      " [ 93.33]\n",
      " [116.33]]\n"
     ]
    }
   ],
   "source": [
    "def moving_avg(seq_array,k):\n",
    "    \n",
    "    n= seq_array.size\n",
    "    elements = n-k+1\n",
    "    i = 0\n",
    "    avg_list = []\n",
    "    avg = np.zeros([1,elements])\n",
    "    avg  = np.row_stack([round(np.sum(seq_array[i:i+k:1])/k ,2) for i in range(0,elements)])\n",
    "    print(type(avg))\n",
    "    return avg\n",
    "\n",
    "##############################################################################################\n",
    "given_array = np.array([3, 5, 7, 2, 8, 10, 11, 65, 72, 81, 99, 100, 150] )\n",
    "window = 3\n",
    "avergae_array = moving_avg(given_array,window)\n",
    "print(\"The requied vector of moving averages of the given array :\")\n",
    "print(avergae_array)\n",
    "\n"
   ]
  }
 ],
 "metadata": {
  "kernelspec": {
   "display_name": "Python 3",
   "language": "python",
   "name": "python3"
  },
  "language_info": {
   "codemirror_mode": {
    "name": "ipython",
    "version": 3
   },
   "file_extension": ".py",
   "mimetype": "text/x-python",
   "name": "python",
   "nbconvert_exporter": "python",
   "pygments_lexer": "ipython3",
   "version": "3.7.6"
  }
 },
 "nbformat": 4,
 "nbformat_minor": 4
}

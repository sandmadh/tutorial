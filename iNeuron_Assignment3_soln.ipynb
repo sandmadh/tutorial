{
 "cells": [
  {
   "cell_type": "markdown",
   "metadata": {},
   "source": [
    "## Task 1:\n",
    "1.\n",
    "Write a function to compute 5/0 and use try/except to catch the exceptions"
   ]
  },
  {
   "cell_type": "code",
   "execution_count": 1,
   "metadata": {},
   "outputs": [
    {
     "name": "stdout",
     "output_type": "stream",
     "text": [
      "Error: Division by 0\n"
     ]
    }
   ],
   "source": [
    "def divide_by_zero(nr,dr):\n",
    "    try:\n",
    "        result = nr/dr\n",
    "    except ZeroDivisionError:\n",
    "        print(\"Error: Division by 0\")\n",
    "    else:\n",
    "        print(result)\n",
    "\n",
    "divide_by_zero(5,0)"
   ]
  },
  {
   "cell_type": "markdown",
   "metadata": {},
   "source": [
    "## 2.\n",
    "Implement a Python program to generate all sentences where subject is in [\"Americans\",\n",
    "\"Indians\"] and verb is in [\"Play\", \"watch\"] and the object is in [\"Baseball\",\"cricket\"].\n",
    "Hint: Subject,Verb and Object should be declared in the program as shown below.\n",
    "\n",
    "subjects=[\"Americans \",\"Indians\"]\n",
    "\n",
    "verbs=[\"play\",\"watch\"]\n",
    "\n",
    "objects=[\"Baseball\",\"Cricket\"]\n"
   ]
  },
  {
   "cell_type": "code",
   "execution_count": 2,
   "metadata": {},
   "outputs": [
    {
     "name": "stdout",
     "output_type": "stream",
     "text": [
      "Americans play Baseball\n",
      "Americans play Cricket\n",
      "Americans watch Baseball\n",
      "Americans watch Cricket\n",
      "Indians play Baseball\n",
      "Indians play Cricket\n",
      "Indians watch Baseball\n",
      "Indians watch Cricket\n"
     ]
    }
   ],
   "source": [
    "\n",
    "subjects=[\"Americans\",\"Indians\"]\n",
    "verbs=[\"play\",\"watch\"]\n",
    "objects=[\"Baseball\",\"Cricket\"]\n",
    "\n",
    "def generate_sentences( sub,verb,obj):\n",
    "    sentence = [[i,j,k] for i in sub for j in verb for k in obj]\n",
    "    return sentence\n",
    "\n",
    "result = generate_sentences(subjects,verbs,objects)\n",
    "for i in result:\n",
    "    print(*i)\n",
    "    #print(' '.join(i))      # This also can be used \n",
    "    "
   ]
  },
  {
   "cell_type": "markdown",
   "metadata": {},
   "source": [
    "## Task 2:\n",
    "## 1.\n",
    "Write a function so that the columns of the output matrix are powers of the input vector.\n",
    "The order of the powers is determined by the increasing boolean argument. Specifically, when\n",
    "increasing is False, the i-th output column is the input vector raised element-wise to the power\n",
    "of N - i - 1.\n",
    "\n",
    "HINT: Such a matrix with a geometric progression in each row is named for Alexandre-\n",
    "Theophile Vandermonde."
   ]
  },
  {
   "cell_type": "code",
   "execution_count": 3,
   "metadata": {},
   "outputs": [
    {
     "name": "stdout",
     "output_type": "stream",
     "text": [
      "input array :\n",
      "[1, 2, 3, 5]\n",
      "Vandermonde array with increasing as  False\n",
      "[1, 1, 1, 1]\n",
      "[8, 4, 2, 1]\n",
      "[27, 9, 3, 1]\n",
      "[125, 25, 5, 1]\n"
     ]
    }
   ],
   "source": [
    "#not using numpy as it is not yet taught yet in the course outline\n",
    "# According to Vandermonde matrix, considering the increasing =False\n",
    "# Making each row of the array as a list by applying Geometric Progression\n",
    "# the output array will be of the order len(input_array) X len(input_array) 4X4 in this case\n",
    "# lets make 4 lists as rows of the output matrix and then print in the required form\n",
    "\n",
    "##################################################################################################\n",
    "\n",
    "def vander_output ( input, num, increasing=False):\n",
    "    rows = list()\n",
    "    for i in input:\n",
    "        if(increasing == False):\n",
    "            j = 1\n",
    "            each_row= list()\n",
    "            while(num > j) or (num == j):\n",
    "                row1 = i ** (num-j)\n",
    "                each_row.append(row1)\n",
    "                j = j+1\n",
    "        elif(increasing ==True):\n",
    "            j = 0\n",
    "            each_row= list()\n",
    "            while(num >j):\n",
    "                row1 = i ** (j)\n",
    "                each_row.append(row1)\n",
    "                j = j+1\n",
    "    \n",
    "        rows.append(each_row)\n",
    "    \n",
    "    return rows\n",
    "\n",
    "##################################################################################################\n",
    "\n",
    "input_array = [1,2,3,5]\n",
    "increasing = False\n",
    "vander_array = vander_output(input_array,len(input_array),increasing)\n",
    "\n",
    "print(\"input array :\")\n",
    "print(input_array)\n",
    "print(\"Vandermonde array with increasing as \" ,increasing)\n",
    "print(*vander_array,sep='\\n')"
   ]
  }
 ],
 "metadata": {
  "kernelspec": {
   "display_name": "Python 3",
   "language": "python",
   "name": "python3"
  },
  "language_info": {
   "codemirror_mode": {
    "name": "ipython",
    "version": 3
   },
   "file_extension": ".py",
   "mimetype": "text/x-python",
   "name": "python",
   "nbconvert_exporter": "python",
   "pygments_lexer": "ipython3",
   "version": "3.7.6"
  }
 },
 "nbformat": 4,
 "nbformat_minor": 4
}
